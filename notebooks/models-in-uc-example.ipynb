{
 "cells": [
  {
   "cell_type": "markdown",
   "metadata": {
    "application/vnd.databricks.v1+cell": {
     "cellMetadata": {},
     "inputWidgets": {},
     "nuid": "ced135b3-039e-425b-9bf3-35f43058bc9a",
     "showTitle": false,
     "title": ""
    }
   },
   "source": [
    "# Models in Unity Catalog Example\n",
    "This notebook illustrates how to use Models in Unity Catalog to build a machine learning application that forecasts the daily power output of a wind farm. The example shows how to:\n",
    "\n",
    "- Track and log models with MLflow.\n",
    "- Register models to Unity Catalog.\n",
    "- Describe models and deploy them for inference using aliases.\n",
    "- Integrate registered models with production applications.\n",
    "- Search and discover models in Unity Catalog.\n",
    "- Archive and delete models.\n",
    "\n",
    "The article describes how to perform these steps using the MLflow Tracking and Models in Unity Catalog UIs and APIs.\n"
   ]
  },
  {
   "cell_type": "markdown",
   "metadata": {
    "application/vnd.databricks.v1+cell": {
     "cellMetadata": {},
     "inputWidgets": {},
     "nuid": "3279a360-f1c0-4ff9-a70c-2ed1d1479c83",
     "showTitle": false,
     "title": ""
    }
   },
   "source": [
    "## Prerequisites\n",
    "\n",
    "1. Unity Catalog must be enabled in your workspace.\n",
    "\n",
    "2. Your workspace must be attached to a Unity Catalog metastore that supports privilege inheritance. This is true for all metastores created after August  25, 2022.\n",
    "\n",
    "3. You must have access to run commands on a cluster with access to Unity Catalog.\n",
    "\n",
    "4. This notebook creates models in the `main.default` schema by default. This requires `USE CATALOG` privilege on the `main` catalog, plus `CREATE MODEL` and `USE SCHEMA` privileges on the `main.default` schema. You can change the catalog and schema used in this notebook, as long as you have the same privileges on the catalog and schema of your choosing."
   ]
  },
  {
   "cell_type": "markdown",
   "metadata": {
    "application/vnd.databricks.v1+cell": {
     "cellMetadata": {},
     "inputWidgets": {},
     "nuid": "13fb9c08-f800-4f80-9b24-a8a1f9c49945",
     "showTitle": false,
     "title": ""
    }
   },
   "source": [
    "## Install required libraries"
   ]
  },
  {
   "cell_type": "code",
   "execution_count": 0,
   "metadata": {
    "application/vnd.databricks.v1+cell": {
     "cellMetadata": {},
     "inputWidgets": {},
     "nuid": "aba41fff-4b9d-45a7-8e19-554b4fb63425",
     "showTitle": false,
     "title": ""
    }
   },
   "outputs": [],
   "source": [
    "%pip install --upgrade \"mlflow-skinny[databricks]>=2.5.0\" tensorflow\n",
    "dbutils.library.restartPython()"
   ]
  },
  {
   "cell_type": "markdown",
   "metadata": {
    "application/vnd.databricks.v1+cell": {
     "cellMetadata": {},
     "inputWidgets": {},
     "nuid": "2271a0c6-8a91-4266-b49c-f641ae61ad04",
     "showTitle": false,
     "title": ""
    }
   },
   "source": [
    "## Configure MLflow client to access models in Unity Catalog\n",
    "By default, the MLflow Python client creates models in the Databricks workspace model registry. To upgrade to models in Unity Catalog, configure the MLflow client as shown:"
   ]
  },
  {
   "cell_type": "code",
   "execution_count": 0,
   "metadata": {
    "application/vnd.databricks.v1+cell": {
     "cellMetadata": {},
     "inputWidgets": {},
     "nuid": "93530720-2100-4ef9-8336-77184b3048f1",
     "showTitle": false,
     "title": ""
    }
   },
   "outputs": [],
   "source": [
    "import mlflow\n",
    "mlflow.set_registry_uri(\"databricks-uc\")"
   ]
  },
  {
   "cell_type": "markdown",
   "metadata": {
    "application/vnd.databricks.v1+cell": {
     "cellMetadata": {},
     "inputWidgets": {},
     "nuid": "1da2ac87-aaf9-4ece-8f1b-90d409dcc52c",
     "showTitle": false,
     "title": ""
    }
   },
   "source": [
    "## Load dataset\n",
    "The following code loads a dataset containing weather data and power output information for a wind farm in the United States. The dataset contains `wind direction`, `wind speed`, and `air temperature` features sampled every six hours (once at `00:00`, once at `08:00`, and once at `16:00`), as well as daily aggregate power output (`power`), over several years.\n"
   ]
  },
  {
   "cell_type": "code",
   "execution_count": 0,
   "metadata": {
    "application/vnd.databricks.v1+cell": {
     "cellMetadata": {},
     "inputWidgets": {},
     "nuid": "474f4901-a5bb-48a3-ac9a-a3aa40def412",
     "showTitle": false,
     "title": ""
    }
   },
   "outputs": [],
   "source": [
    "import pandas as pd\n",
    "wind_farm_data = pd.read_csv(\"https://github.com/dbczumar/model-registry-demo-notebook/raw/master/dataset/windfarm_data.csv\", index_col=0)\n",
    "\n",
    "def get_training_data():\n",
    "  training_data = pd.DataFrame(wind_farm_data[\"2014-01-01\":\"2018-01-01\"])\n",
    "  X = training_data.drop(columns=\"power\")\n",
    "  y = training_data[\"power\"]\n",
    "  return X, y\n",
    "\n",
    "def get_validation_data():\n",
    "  validation_data = pd.DataFrame(wind_farm_data[\"2018-01-01\":\"2019-01-01\"])\n",
    "  X = validation_data.drop(columns=\"power\")\n",
    "  y = validation_data[\"power\"]\n",
    "  return X, y\n",
    "\n",
    "def get_weather_and_forecast():\n",
    "  format_date = lambda pd_date : pd_date.date().strftime(\"%Y-%m-%d\")\n",
    "  today = pd.Timestamp('today').normalize()\n",
    "  week_ago = today - pd.Timedelta(days=5)\n",
    "  week_later = today + pd.Timedelta(days=5)\n",
    "\n",
    "  past_power_output = pd.DataFrame(wind_farm_data)[format_date(week_ago):format_date(today)]\n",
    "  weather_and_forecast = pd.DataFrame(wind_farm_data)[format_date(week_ago):format_date(week_later)]\n",
    "  if len(weather_and_forecast) < 10:\n",
    "    past_power_output = pd.DataFrame(wind_farm_data).iloc[-10:-5]\n",
    "    weather_and_forecast = pd.DataFrame(wind_farm_data).iloc[-10:]\n",
    "\n",
    "  return weather_and_forecast.drop(columns=\"power\"), past_power_output[\"power\"]"
   ]
  },
  {
   "cell_type": "markdown",
   "metadata": {
    "application/vnd.databricks.v1+cell": {
     "cellMetadata": {},
     "inputWidgets": {},
     "nuid": "aa8f5dac-d7a5-4833-b9a8-7e4a11fdab10",
     "showTitle": false,
     "title": ""
    }
   },
   "source": [
    "## Train, register, and deploy model\n",
    "The following code trains a neural network using TensorFlow Keras to predict power output based on the weather features in the dataset. MLflow APIs are used to register the fitted model to Unity Catalog."
   ]
  },
  {
   "cell_type": "code",
   "execution_count": 0,
   "metadata": {
    "application/vnd.databricks.v1+cell": {
     "cellMetadata": {},
     "inputWidgets": {},
     "nuid": "c6ec4c63-2a5d-44bf-a151-78272435fd77",
     "showTitle": false,
     "title": ""
    }
   },
   "outputs": [],
   "source": [
    "# You can update the catalog and schema name containing the model in Unity Catalog if needed\n",
    "CATALOG_NAME = \"main\"\n",
    "SCHEMA_NAME = \"default\"\n",
    "MODEL_NAME = f\"{CATALOG_NAME}.{SCHEMA_NAME}.wind_forecasting\""
   ]
  },
  {
   "cell_type": "code",
   "execution_count": 0,
   "metadata": {
    "application/vnd.databricks.v1+cell": {
     "cellMetadata": {},
     "inputWidgets": {},
     "nuid": "07e28ab4-ee66-4efa-b44a-5f72dc252b92",
     "showTitle": false,
     "title": ""
    }
   },
   "outputs": [],
   "source": [
    "from tensorflow.keras.models import Sequential\n",
    "from tensorflow.keras.layers import Dense\n",
    "\n",
    "def train_and_register_keras_model(X, y):\n",
    "  with mlflow.start_run():\n",
    "    model = Sequential()\n",
    "    model.add(Dense(100, input_shape=(X.shape[-1],), activation=\"relu\", name=\"hidden_layer\"))\n",
    "    model.add(Dense(1))\n",
    "    model.compile(loss=\"mse\", optimizer=\"adam\")\n",
    "\n",
    "    model.fit(X, y, epochs=100, batch_size=64, validation_split=.2)\n",
    "    example_input = X[:10].to_numpy()\n",
    "    mlflow.tensorflow.log_model(\n",
    "        model,\n",
    "        artifact_path=\"model\",\n",
    "        input_example=example_input,\n",
    "        registered_model_name=MODEL_NAME\n",
    "    )\n",
    "  return model\n",
    "\n",
    "X_train, y_train = get_training_data()\n",
    "model = train_and_register_keras_model(X_train, y_train)"
   ]
  },
  {
   "cell_type": "markdown",
   "metadata": {
    "application/vnd.databricks.v1+cell": {
     "cellMetadata": {},
     "inputWidgets": {},
     "nuid": "7269e19d-40ea-4caa-8ba4-d857263be1e1",
     "showTitle": false,
     "title": ""
    }
   },
   "source": [
    "### Add model and model version descriptions using the API\n",
    "You can use MLflow APIs to find the recently trained model version, then add descriptions to the model version and the registered model:"
   ]
  },
  {
   "cell_type": "code",
   "execution_count": 0,
   "metadata": {
    "application/vnd.databricks.v1+cell": {
     "cellMetadata": {},
     "inputWidgets": {},
     "nuid": "19d47be3-79b9-4e1e-8180-b623998f9155",
     "showTitle": false,
     "title": ""
    }
   },
   "outputs": [],
   "source": [
    "from mlflow.tracking.client import MlflowClient\n",
    "def get_latest_model_version(model_name):\n",
    "  client = MlflowClient()\n",
    "  model_version_infos = client.search_model_versions(\"name = '%s'\" % model_name)\n",
    "  return max([int(model_version_info.version) for model_version_info in model_version_infos])"
   ]
  },
  {
   "cell_type": "code",
   "execution_count": 0,
   "metadata": {
    "application/vnd.databricks.v1+cell": {
     "cellMetadata": {},
     "inputWidgets": {},
     "nuid": "354058f1-756a-46c3-8c64-faf014fa9eb6",
     "showTitle": false,
     "title": ""
    }
   },
   "outputs": [],
   "source": [
    "latest_version = get_latest_model_version(model_name=MODEL_NAME)\n"
   ]
  },
  {
   "cell_type": "code",
   "execution_count": 0,
   "metadata": {
    "application/vnd.databricks.v1+cell": {
     "cellMetadata": {},
     "inputWidgets": {},
     "nuid": "013ff52e-2cbe-4b9b-8769-a0c02144879a",
     "showTitle": false,
     "title": ""
    }
   },
   "outputs": [],
   "source": [
    "client = MlflowClient()\n",
    "client.update_registered_model(\n",
    "  name=MODEL_NAME,\n",
    "  description=\"This model forecasts the power output of a wind farm based on weather data. The weather data consists of three features: wind speed, wind direction, and air temperature.\"\n",
    ")\n",
    "\n",
    "client.update_model_version(\n",
    "  name=MODEL_NAME,\n",
    "  version=1,\n",
    "  description=\"This model version was built using TensorFlow Keras. It is a feed-forward neural network with one hidden layer.\"\n",
    ")"
   ]
  },
  {
   "cell_type": "markdown",
   "metadata": {
    "application/vnd.databricks.v1+cell": {
     "cellMetadata": {},
     "inputWidgets": {},
     "nuid": "6794eaf0-25e3-4668-b9c9-fe659db641e0",
     "showTitle": false,
     "title": ""
    }
   },
   "source": [
    "### View the model in the UI\n",
    "You can view and manage registered models and model versions in Unity Catalog using Catalog Explorer ([AWS](https://docs.databricks.com/data/index.html)|[Azure](https://learn.microsoft.com/azure/databricks/data/)|[GCP](https://docs.gcp.databricks.com/data/index.html)).\n",
    "Look for the model you just created under the `main` catalog and `default` schema."
   ]
  },
  {
   "cell_type": "markdown",
   "metadata": {
    "application/vnd.databricks.v1+cell": {
     "cellMetadata": {},
     "inputWidgets": {},
     "nuid": "a544aecb-7867-404b-8075-bfeab986f798",
     "showTitle": false,
     "title": ""
    }
   },
   "source": [
    "### Deploy a model version for inference\n",
    "Models in Unity Catalog support aliases ([AWS](https://docs.databricks.com/mlflow/model-registry.html#model-registry-concepts)|[Azure](https://learn.microsoft.com/en-us/azure/databricks/mlflow/model-registry#model-registry-concepts)|[GCP](https://docs.gcp.databricks.com/mlflow/model-registry.html#model-registry-concepts)) for model deployment.\n",
    "Aliases provide mutable, named references (e.g. \"Champion\", \"Challenger\") to a particular version of a registered model, that you can reference and target in downstream inference workflows. The following cell shows how to use MLflow APIs to assign the \"Champion\" alias to the newly-trained model version."
   ]
  },
  {
   "cell_type": "code",
   "execution_count": 0,
   "metadata": {
    "application/vnd.databricks.v1+cell": {
     "cellMetadata": {},
     "inputWidgets": {},
     "nuid": "0f362a48-4d0b-4da0-8279-9ce19a31c310",
     "showTitle": false,
     "title": ""
    }
   },
   "outputs": [],
   "source": [
    "client = MlflowClient()\n",
    "latest_version = get_latest_model_version(MODEL_NAME)\n",
    "client.set_registered_model_alias(MODEL_NAME, \"Champion\", latest_version)"
   ]
  },
  {
   "cell_type": "markdown",
   "metadata": {
    "application/vnd.databricks.v1+cell": {
     "cellMetadata": {},
     "inputWidgets": {},
     "nuid": "a6c4a1f3-a2c5-47c1-9af0-23ca7f477bd0",
     "showTitle": false,
     "title": ""
    }
   },
   "source": [
    "## Load model versions using the API\n",
    "The MLflow Models component defines functions for loading models from several machine learning frameworks. For example, `mlflow.tensorflow.load_model()` is used to load TensorFlow models that were saved in MLflow format, and `mlflow.sklearn.load_model()` is used to load scikit-learn models that were saved in MLflow format.\n",
    "\n",
    "These functions can load models from Models in Unity Catalog by version number or alias:"
   ]
  },
  {
   "cell_type": "code",
   "execution_count": 0,
   "metadata": {
    "application/vnd.databricks.v1+cell": {
     "cellMetadata": {},
     "inputWidgets": {},
     "nuid": "123275d0-ea70-477c-a93b-113810e25364",
     "showTitle": false,
     "title": ""
    }
   },
   "outputs": [],
   "source": [
    "import mlflow.pyfunc\n",
    "\n",
    "model_version_uri = \"models:/{model_name}/1\".format(model_name=MODEL_NAME)\n",
    "\n",
    "print(\"Loading registered model version from URI: '{model_uri}'\".format(model_uri=model_version_uri))\n",
    "model_version_1 = mlflow.pyfunc.load_model(model_version_uri)\n",
    "\n",
    "model_champion_uri = \"models:/{model_name}@Champion\".format(model_name=MODEL_NAME)\n",
    "\n",
    "print(\"Loading registered model version from URI: '{model_uri}'\".format(model_uri=model_champion_uri))\n",
    "champion_model = mlflow.pyfunc.load_model(model_champion_uri)"
   ]
  },
  {
   "cell_type": "markdown",
   "metadata": {
    "application/vnd.databricks.v1+cell": {
     "cellMetadata": {},
     "inputWidgets": {},
     "nuid": "fa100bfb-bd91-4d9e-b947-05c37c76cbcd",
     "showTitle": false,
     "title": ""
    }
   },
   "source": [
    "### Forecast power output with the champion model\n",
    "\n",
    "In this section, the champion model is used to evaluate weather forecast data for the wind farm. The `forecast_power()` application loads the latest version of the forecasting model from the specified stage and uses it to forecast power production over the next five days.\n"
   ]
  },
  {
   "cell_type": "code",
   "execution_count": 0,
   "metadata": {
    "application/vnd.databricks.v1+cell": {
     "cellMetadata": {},
     "inputWidgets": {},
     "nuid": "b34119b7-27b1-4ea6-9d33-3292aac4a111",
     "showTitle": false,
     "title": ""
    }
   },
   "outputs": [],
   "source": [
    "from mlflow.tracking import MlflowClient\n",
    "\n",
    "def plot(model_name, model_alias, model_version, power_predictions, past_power_output):\n",
    "  import matplotlib.dates as mdates\n",
    "  from matplotlib import pyplot as plt\n",
    "  index = power_predictions.index\n",
    "  fig = plt.figure(figsize=(11, 7))\n",
    "  ax = fig.add_subplot(111)\n",
    "  ax.set_xlabel(\"Date\", size=20, labelpad=20)\n",
    "  ax.set_ylabel(\"Power\\noutput\\n(MW)\", size=20, labelpad=60, rotation=0)\n",
    "  ax.tick_params(axis='both', which='major', labelsize=17)\n",
    "  ax.xaxis.set_major_formatter(mdates.DateFormatter('%m/%d'))\n",
    "  ax.plot(index[:len(past_power_output)], past_power_output, label=\"True\", color=\"red\", alpha=0.5, linewidth=4)\n",
    "  ax.plot(index, power_predictions.squeeze(), \"--\", label=\"Predicted by '%s'\\nwith alias '%s' (Version %d)\" % (model_name, model_alias, model_version), color=\"blue\", linewidth=3)\n",
    "  ax.set_ylim(ymin=0, ymax=max(3500, int(max(power_predictions.values) * 1.3)))\n",
    "  ax.legend(fontsize=14)\n",
    "  plt.title(\"Wind farm power output and projections\", size=24, pad=20)\n",
    "  plt.tight_layout()\n",
    "  display(plt.show())\n",
    "\n",
    "def forecast_power(model_name, model_alias):\n",
    "  import pandas as pd\n",
    "  client = MlflowClient()\n",
    "  model_version = client.get_model_version_by_alias(model_name, model_alias).version\n",
    "  model_uri = \"models:/{model_name}@{model_alias}\".format(model_name=MODEL_NAME, model_alias=model_alias)\n",
    "  model = mlflow.pyfunc.load_model(model_uri)\n",
    "  weather_data, past_power_output = get_weather_and_forecast()\n",
    "  power_predictions = pd.DataFrame(model.predict(weather_data))\n",
    "  power_predictions.index = pd.to_datetime(weather_data.index)\n",
    "  print(power_predictions)\n",
    "  plot(model_name, model_alias, int(model_version), power_predictions, past_power_output)\n",
    "\n",
    "forecast_power(MODEL_NAME, \"Champion\")"
   ]
  },
  {
   "cell_type": "markdown",
   "metadata": {
    "application/vnd.databricks.v1+cell": {
     "cellMetadata": {},
     "inputWidgets": {},
     "nuid": "61f996b6-96de-44b1-acd8-068af8ccb6ad",
     "showTitle": false,
     "title": ""
    }
   },
   "source": [
    "## Create and deploy a new model version\n",
    "Classical machine learning techniques are also effective for power forecasting. The following code trains a random forest model using scikit-learn and registers it to Unity Catalog via the `mlflow.sklearn.log_model()` function.\n"
   ]
  },
  {
   "cell_type": "code",
   "execution_count": 0,
   "metadata": {
    "application/vnd.databricks.v1+cell": {
     "cellMetadata": {},
     "inputWidgets": {},
     "nuid": "1feca99a-9f14-4c5b-8c85-26d8749301a6",
     "showTitle": false,
     "title": ""
    }
   },
   "outputs": [],
   "source": [
    "import mlflow.sklearn\n",
    "from sklearn.ensemble import RandomForestRegressor\n",
    "from sklearn.metrics import mean_squared_error\n",
    "\n",
    "with mlflow.start_run():\n",
    "  n_estimators = 300\n",
    "  mlflow.log_param(\"n_estimators\", n_estimators)\n",
    "\n",
    "  rand_forest = RandomForestRegressor(n_estimators=n_estimators)\n",
    "  rand_forest.fit(X_train, y_train)\n",
    "\n",
    "  val_x, val_y = get_validation_data()\n",
    "  mse = mean_squared_error(rand_forest.predict(val_x), val_y)\n",
    "  print(\"Validation MSE: %d\" % mse)\n",
    "  mlflow.log_metric(\"mse\", mse)\n",
    "\n",
    "  example_input = val_x.iloc[[0]]\n",
    "\n",
    "  # Specify the `registered_model_name` parameter of the `mlflow.sklearn.log_model()`\n",
    "  # function to register the model to <UC>. This automatically\n",
    "  # creates a new model version\n",
    "  mlflow.sklearn.log_model(\n",
    "    sk_model=rand_forest,\n",
    "    artifact_path=\"sklearn-model\",\n",
    "    input_example=example_input,\n",
    "    registered_model_name=MODEL_NAME\n",
    "  )"
   ]
  },
  {
   "cell_type": "markdown",
   "metadata": {
    "application/vnd.databricks.v1+cell": {
     "cellMetadata": {},
     "inputWidgets": {},
     "nuid": "d492dc88-14cf-488d-940c-2b1b8256e52b",
     "showTitle": false,
     "title": ""
    }
   },
   "source": [
    "### Add description on new model version"
   ]
  },
  {
   "cell_type": "code",
   "execution_count": 0,
   "metadata": {
    "application/vnd.databricks.v1+cell": {
     "cellMetadata": {},
     "inputWidgets": {},
     "nuid": "8b0c595e-5de2-42f2-914f-2ceee369e957",
     "showTitle": false,
     "title": ""
    }
   },
   "outputs": [],
   "source": [
    "new_model_version = get_latest_model_version(MODEL_NAME)"
   ]
  },
  {
   "cell_type": "code",
   "execution_count": 0,
   "metadata": {
    "application/vnd.databricks.v1+cell": {
     "cellMetadata": {},
     "inputWidgets": {},
     "nuid": "6957717c-5938-432e-80e9-b3b164bb9c85",
     "showTitle": false,
     "title": ""
    }
   },
   "outputs": [],
   "source": [
    "client.update_model_version(\n",
    "  name=MODEL_NAME,\n",
    "  version=new_model_version,\n",
    "  description=\"This model version is a random forest containing 100 decision trees that was trained in scikit-learn.\"\n",
    ")"
   ]
  },
  {
   "cell_type": "markdown",
   "metadata": {
    "application/vnd.databricks.v1+cell": {
     "cellMetadata": {},
     "inputWidgets": {},
     "nuid": "c990f2dc-409d-4205-9c57-90ffea501d49",
     "showTitle": false,
     "title": ""
    }
   },
   "source": [
    "###  Mark new model version as Challenger and test the model\n",
    "Before deploying a model to serve production traffic, it is often best practice to test it in on a sample\n",
    "of production data or traffic. Previously, this notebook assigned the \"Champion\" alias to the model version serving\n",
    "the majority of production workloads. The following code assigns the \"Challenger\" alias to the new\n",
    "model version and evaluates its performance."
   ]
  },
  {
   "cell_type": "code",
   "execution_count": 0,
   "metadata": {
    "application/vnd.databricks.v1+cell": {
     "cellMetadata": {},
     "inputWidgets": {},
     "nuid": "af6623aa-fa7e-4eba-89a1-ffd1b581941c",
     "showTitle": false,
     "title": ""
    }
   },
   "outputs": [],
   "source": [
    "client.set_registered_model_alias(\n",
    "  name=MODEL_NAME,\n",
    "  alias=\"Challenger\",\n",
    "  version=new_model_version\n",
    ")\n",
    "\n",
    "forecast_power(MODEL_NAME, \"Challenger\")"
   ]
  },
  {
   "cell_type": "markdown",
   "metadata": {
    "application/vnd.databricks.v1+cell": {
     "cellMetadata": {},
     "inputWidgets": {},
     "nuid": "12d9be5f-56ab-4c2d-9f0f-5c61e96e5000",
     "showTitle": false,
     "title": ""
    }
   },
   "source": [
    "### Deploy the new model version as the Champion model version\n",
    "After verifying that the new model version performs well in tests, the following code assigns the\n",
    "\"Champion\" alias to the new model version and uses the same `forecast_power` application code to produce\n",
    "a power forecast"
   ]
  },
  {
   "cell_type": "code",
   "execution_count": 0,
   "metadata": {
    "application/vnd.databricks.v1+cell": {
     "cellMetadata": {},
     "inputWidgets": {},
     "nuid": "b1fbccaa-4e61-4755-9274-0bea59030c76",
     "showTitle": false,
     "title": ""
    }
   },
   "outputs": [],
   "source": [
    "client.set_registered_model_alias(\n",
    "  name=MODEL_NAME,\n",
    "  alias=\"Champion\",\n",
    "  version=new_model_version\n",
    ")\n",
    "\n",
    "forecast_power(MODEL_NAME, \"Champion\")"
   ]
  },
  {
   "cell_type": "markdown",
   "metadata": {
    "application/vnd.databricks.v1+cell": {
     "cellMetadata": {},
     "inputWidgets": {},
     "nuid": "a2ef54b2-7d11-4ff7-8f8e-4e203c939c95",
     "showTitle": false,
     "title": ""
    }
   },
   "source": [
    "There are now two model versions of the forecasting model: the model version trained in Keras model and the \n",
    "version trained in scikit-learn. Note that the \"Challenger\" alias remains assigned to the new, scikit-learn \n",
    "model version, so any downstream workloads that target the \"Challenger\" model version continue to run successfully:"
   ]
  },
  {
   "cell_type": "markdown",
   "metadata": {
    "application/vnd.databricks.v1+cell": {
     "cellMetadata": {},
     "inputWidgets": {},
     "nuid": "79611303-c25c-4066-9302-2ad83981d206",
     "showTitle": false,
     "title": ""
    }
   },
   "source": [
    "## Archive and delete models\n",
    "When a model version is no longer being used, you can delete it. You can also delete an entire registered \n",
    "model; this removes all of its associated model versions. Note that deleting a model version clears\n",
    "any aliases assigned to the model version.\n"
   ]
  },
  {
   "cell_type": "code",
   "execution_count": 0,
   "metadata": {
    "application/vnd.databricks.v1+cell": {
     "cellMetadata": {},
     "inputWidgets": {},
     "nuid": "69561e89-fa9a-4d68-9277-52011c7d34fc",
     "showTitle": false,
     "title": ""
    }
   },
   "outputs": [],
   "source": [
    "client.delete_model_version(\n",
    "   name=MODEL_NAME,\n",
    "   version=1,\n",
    ")"
   ]
  },
  {
   "cell_type": "code",
   "execution_count": 0,
   "metadata": {
    "application/vnd.databricks.v1+cell": {
     "cellMetadata": {},
     "inputWidgets": {},
     "nuid": "37507989-8198-4f8f-b9b8-599b54bf0f62",
     "showTitle": false,
     "title": ""
    }
   },
   "outputs": [],
   "source": [
    "client = MlflowClient()\n",
    "client.delete_registered_model(name=MODEL_NAME)"
   ]
  }
 ],
 "metadata": {
  "application/vnd.databricks.v1+notebook": {
   "dashboards": [],
   "environmentMetadata": null,
   "language": "python",
   "notebookMetadata": {
    "pythonIndentUnit": 2
   },
   "notebookName": "models-in-uc-example (1)",
   "widgets": {}
  }
 },
 "nbformat": 4,
 "nbformat_minor": 0
}
